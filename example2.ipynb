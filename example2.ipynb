{
 "cells": [
  {
   "cell_type": "code",
   "execution_count": 1,
   "id": "377bd352",
   "metadata": {},
   "outputs": [],
   "source": [
    "import numpy as np \n",
    "from orbit_util import Orbit_2body, OrbitVisualizer"
   ]
  },
  {
   "cell_type": "markdown",
   "id": "2ede1982",
   "metadata": {},
   "source": [
    "## Finding inital conditions which will generate the desired orbit shape"
   ]
  },
  {
   "cell_type": "markdown",
   "id": "e1703990",
   "metadata": {},
   "source": [
    "### 1.The ellliptical orbit"
   ]
  },
  {
   "cell_type": "code",
   "execution_count": null,
   "id": "970db0b8",
   "metadata": {},
   "outputs": [],
   "source": [
    "# Initial Conditions\n",
    "X_0 = 840.5  # [km]\n",
    "Y_0 = 485.3  # [km]\n",
    "Z_0 = 6905.8  # [km]\n",
    "VX_0 = 3.7821  # [km/s]\n",
    "VY_0 = -6.5491 # [km/s]\n",
    "VZ_0 = 0.0057  # [km/s]\n",
    "state_01 = [X_0, Y_0, Z_0, VX_0, VY_0, VZ_0]\n",
    "state_02 = [X_0, Y_0, Z_0, VY_0, VX_0, VZ_0]\n",
    "state_03 = [X_0, Y_0, Z_0, VX_0, VZ_0, VY_0]"
   ]
  },
  {
   "cell_type": "markdown",
   "id": "e6794cf3",
   "metadata": {},
   "source": [
    "Making sure the orbit is elliptical"
   ]
  },
  {
   "cell_type": "code",
   "execution_count": null,
   "id": "94743fa4",
   "metadata": {},
   "outputs": [],
   "source": [
    "orbit_elip = Orbit_2body()\n",
    "orbit_elip.orbit_type(state_01[:3], state_01[3:])"
   ]
  },
  {
   "cell_type": "markdown",
   "id": "870658f8",
   "metadata": {},
   "source": [
    "The orbit is elliptical (Specific mechanical energy < 0) <br>\n",
    "Propagting the orbit"
   ]
  },
  {
   "cell_type": "code",
   "execution_count": null,
   "id": "7a23005a",
   "metadata": {},
   "outputs": [],
   "source": [
    "r, t =orbit_elip.propagate_init_cond(T = 6*3600, time_step = 10, R0 = state_01[0:3], V0 =state_01[3:6])    #Propagte the orbit"
   ]
  },
  {
   "cell_type": "markdown",
   "id": "256d7e34",
   "metadata": {},
   "source": [
    "### 2.The hyperbolic orbit"
   ]
  },
  {
   "cell_type": "code",
   "execution_count": null,
   "id": "76168b04",
   "metadata": {},
   "outputs": [],
   "source": [
    "# Initial Conditions\n",
    "X_1 = 840.5  # [km]\n",
    "Y_1 = 485.3  # [km]\n",
    "Z_1 = 6905.8  # [km]\n",
    "VX_1 = 3.7821 *2  # [km/s]\n",
    "VY_1 = -6.5491 *2# [km/s]\n",
    "VZ_1 = 0.0057  *2# [km/s]\n",
    "state_11 = [X_1, Y_1, Z_1, VX_1, VY_1, VZ_1]\n",
    "state_11 = [X_1, Y_1, Z_1, VY_1, VX_1, VZ_1]\n",
    "state_11 = [X_1, Y_1, Z_1, VX_1, VZ_1, VY_1]"
   ]
  },
  {
   "cell_type": "code",
   "execution_count": null,
   "id": "4c110e8c",
   "metadata": {},
   "outputs": [],
   "source": [
    "orbit_hyp= Orbit_2body()\n",
    "orbit_hyp.orbit_type(state_11[:3], state_11[3:])"
   ]
  },
  {
   "cell_type": "code",
   "execution_count": null,
   "id": "a7cdcd5b",
   "metadata": {},
   "outputs": [],
   "source": [
    "r_hyp, t_hyp = orbit_hyp.propagate_init_cond(T = 6*3600, time_step = 10, R0 = state_11[0:3], V0 =state_11[3:6])    #Propagte the orbit"
   ]
  },
  {
   "cell_type": "markdown",
   "id": "dab23bad",
   "metadata": {},
   "source": [
    "### 3.The Parabolic orbit"
   ]
  },
  {
   "cell_type": "code",
   "execution_count": null,
   "id": "4137cd5e",
   "metadata": {},
   "outputs": [],
   "source": [
    "# Initial Conditions\n",
    "X_2 = 840.5  # [km]\n",
    "Y_2 = 485.3  # [km]\n",
    "Z_2 = 6905.8  # [km]\n",
    "VX_2 = 3.7821 *1.41  # [km/s]\n",
    "VY_2 = -6.5491 *1.41# [km/s]\n",
    "VZ_2 = 0.0057  *1.41# [km/s]\n",
    "state_21 = [X_2, Y_2, Z_2, VX_2, VY_2, VZ_2]\n",
    "state_22 = [X_2, Y_2, Z_2, VY_2, VX_2, VZ_2]\n",
    "state_23 = [X_2, Y_2, Z_2, VX_2, VZ_2, VY_2]"
   ]
  },
  {
   "cell_type": "code",
   "execution_count": null,
   "id": "001d7be5",
   "metadata": {},
   "outputs": [],
   "source": [
    "orbit_para= Orbit_2body()\n",
    "orbit_hyp.orbit_type(state_21[:3], state_21[3:],threshold=0.5)"
   ]
  },
  {
   "cell_type": "code",
   "execution_count": null,
   "id": "13a630eb",
   "metadata": {},
   "outputs": [],
   "source": [
    "orbit_hyp.energy(state_21[:3], state_21[3:])"
   ]
  },
  {
   "cell_type": "markdown",
   "id": "8ea0f1f2",
   "metadata": {},
   "source": [
    "## Plotting the orbits of different orbits using the SimpleStaticM() and SimpleDynamicM() and EarthStaticM() and "
   ]
  },
  {
   "cell_type": "code",
   "execution_count": null,
   "id": "9531e72d",
   "metadata": {},
   "outputs": [],
   "source": [
    "ob_vis = OrbitVisualizer()"
   ]
  },
  {
   "cell_type": "code",
   "execution_count": null,
   "id": "0a1d93ba",
   "metadata": {},
   "outputs": [],
   "source": [
    "ob_vis.SimpleDynamic(r[::10], t[::10])"
   ]
  },
  {
   "cell_type": "code",
   "execution_count": null,
   "id": "958229d3",
   "metadata": {},
   "outputs": [],
   "source": [
    "ob_vis.simpleStaticM([r[::10], r_hyp[::4]] , names=[\"OB1\", \"OB2\"])"
   ]
  },
  {
   "cell_type": "code",
   "execution_count": null,
   "id": "9adaf7f8",
   "metadata": {},
   "outputs": [],
   "source": [
    "ob_vis.EarthStaticM([r[::10], r_hyp[::4]] ,names=[\"OB1\", \"OB2\"])\n"
   ]
  },
  {
   "cell_type": "code",
   "execution_count": null,
   "id": "e2769e75",
   "metadata": {},
   "outputs": [],
   "source": [
    "# ob_vis.EarthStaticM([r[::10], r_hyp[::4]] ,names=[\"OB1\", \"OB2\"])"
   ]
  },
  {
   "cell_type": "code",
   "execution_count": null,
   "id": "adc952ec",
   "metadata": {},
   "outputs": [],
   "source": [
    "# ob_vis.SimpleDynamicM([r[::10], r_hyp[::10]], t[::10] ,names=[\"OB1\", \"OB2\"], colors=[\"yellow\", \"pink\"])"
   ]
  },
  {
   "cell_type": "code",
   "execution_count": null,
   "id": "f472ae6f",
   "metadata": {},
   "outputs": [],
   "source": [
    "ob_vis.EarthDynamicM([r[::5], r_hyp[::5]], t[::5], names=['OB1', 'OB2'], colors=['yellow', 'blue'] )"
   ]
  },
  {
   "cell_type": "code",
   "execution_count": null,
   "id": "6a16c834",
   "metadata": {},
   "outputs": [],
   "source": []
  }
 ],
 "metadata": {
  "kernelspec": {
   "display_name": "base",
   "language": "python",
   "name": "python3"
  },
  "language_info": {
   "codemirror_mode": {
    "name": "ipython",
    "version": 3
   },
   "file_extension": ".py",
   "mimetype": "text/x-python",
   "name": "python",
   "nbconvert_exporter": "python",
   "pygments_lexer": "ipython3",
   "version": "3.10.9"
  }
 },
 "nbformat": 4,
 "nbformat_minor": 5
}
